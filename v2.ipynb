{
 "cells": [
  {
   "cell_type": "code",
   "execution_count": null,
   "metadata": {},
   "outputs": [],
   "source": [
    " # Import Module\n",
    "import os\n",
    "import pandas as pd\n",
    "import numpy as np\n",
    "from tqdm import tqdm\n",
    "from datetime import date, datetime\n"
   ]
  },
  {
   "cell_type": "code",
   "execution_count": null,
   "metadata": {},
   "outputs": [],
   "source": [
    "# Folder Path\n",
    "base_path = \"D:\\\\Python Projects\\\\Data Extraction Project\\\\Text file data extraction - (LM Bangkok - Data extraction)\\\\Data\\\\\"\n",
    "# base_path = \"d:\\\\Sanket\\\\Projects\\\\Snehal Mam\\\\06. Text file data extraction - (LM Bangkok - Data extraction)\\\\Recon\\\\\"\n",
    "error_log_file = 'Error_log' + '.txt'\n",
    "error_log_file_path = base_path + 'Failure\\\\' + error_log_file\n",
    "\n",
    "# Change the directory\n",
    "os.chdir(base_path)\n",
    "\n",
    "file_names_excel = []\n",
    "\n",
    "for file in os.listdir():\n",
    "    if file.endswith(\".txt\"):\n",
    "        file_names_excel.append(file)\n",
    "\n",
    "cols = ['TERM.ID', 'BATCH-INV.NO.', 'TYPE', 'DATE', 'CARDNO.', 'AMOUNT', 'AUTH.', 'POS', 'SITECODE', 'TRACE']"
   ]
  },
  {
   "cell_type": "code",
   "execution_count": null,
   "metadata": {},
   "outputs": [],
   "source": [
    "file_names_excel"
   ]
  },
  {
   "cell_type": "code",
   "execution_count": null,
   "metadata": {},
   "outputs": [],
   "source": [
    "input_excel_file_name = 'SettlementText_LEBANG17_20211221.txt'"
   ]
  },
  {
   "cell_type": "code",
   "execution_count": null,
   "metadata": {},
   "outputs": [],
   "source": [
    "dict = {}\n",
    "lst = []\n",
    "lst2 = []\n",
    "cols_lst = []\n",
    "counter_1 = 0\n",
    "counter_2 = 0\n",
    "df = pd.DataFrame()\n",
    "\n",
    "# for input_file_name in file_names:\n",
    "# input_file_name = 'Data\\\\SettlementText_LEBANG17_20211221.excel'\n",
    "with open(input_excel_file_name) as f:\n",
    "    dict[input_excel_file_name] = f.readlines()\n",
    "\n",
    "lines = dict.get(input_excel_file_name)\n",
    "\n",
    "# print(dict.keys())\n",
    "\n",
    "\n",
    "for i in lines:\n",
    "    lst.append(lines[counter_1].split(\"\\n\"))\n",
    "    counter_1+=1\n",
    "\n",
    "\n",
    "for i in lst[6]:\n",
    "    lst2.append(lst[6][counter_2].split(\" \"))\n",
    "    counter_2+=1\n",
    "\n",
    "cols_lst = [x for x in lst2[0] if x]\n",
    "cols_lst = cols_lst[:10]\n",
    "\n",
    "now = datetime.now().strftime(\"%d/%m/%Y %H:%M:%S\")\n",
    "\n",
    "# missing columns name\n",
    "missing = list(set(cols) - set(cols_lst))\n",
    "\n",
    "\n",
    "for j in tqdm(range(3, len(lst)-1)):\n",
    "    lst2 = []\n",
    "    # counter = 0\n",
    "    # # for i in lst[j]:\n",
    "    lst2.append(lst[j][0].split(\" \"))\n",
    "        # counter+=1\n",
    "    lst3 = [x for x in lst2[0] if x]\n",
    "    if len(lst3)>2:\n",
    "        if lst3[-2].isdigit():\n",
    "            lst3.insert(-1, \"\")\n",
    "        \n",
    "    df1 = pd.DataFrame(lst3)\n",
    "    df_t =df1.transpose()\n",
    "    df = df.append(df_t)\n",
    "    # print(df_final)\n",
    "\n"
   ]
  },
  {
   "cell_type": "code",
   "execution_count": null,
   "metadata": {},
   "outputs": [],
   "source": [
    "df.drop(df.columns[[10, 11,12]], axis=1, inplace=True)\n",
    "df.set_axis(cols_lst, axis=1, inplace = True)\n",
    "df.dropna(thresh=8, inplace=True)\n",
    "df = df[pd.to_numeric(df['TERM.ID'], errors='coerce').notnull()]"
   ]
  },
  {
   "cell_type": "code",
   "execution_count": null,
   "metadata": {},
   "outputs": [],
   "source": [
    "df"
   ]
  },
  {
   "cell_type": "code",
   "execution_count": null,
   "metadata": {},
   "outputs": [],
   "source": [
    "import pandas as pd,numpy as np\n",
    "\n",
    "# df=pd.read_excel(r'D:\\Python Projects\\Data Extraction Project\\Text file data extraction - (LM Bangkok - Data extraction)\\Data\\check - Copy.xlsx')\n",
    "#df[\"MERCHANT NO.\"] = np.nan\n",
    "\n",
    "count=-1\n",
    "for x in df['TYPE']:\n",
    "    count=count+1\n",
    "    if x== 'MERCHANT':\n",
    "        #print(\"Good\")\n",
    "        \n",
    "        a=df['CARDNO.'].iloc[[count]]\n",
    "        #for x1 in a:\n",
    "            #df[\"MERCHANT NO.\"]=x1\n",
    "#df.dropna(subset=['SITECODE', 'TRACE'], how='all', inplace=True)        "
   ]
  },
  {
   "cell_type": "code",
   "execution_count": null,
   "metadata": {},
   "outputs": [],
   "source": [
    "# count_list=[]\n",
    "# count=-1\n",
    "# for x in df['TYPE']:\n",
    "#     count=count+1\n",
    "#     if x== 'MERCHANT':\n",
    "#         #print(\"Good\")\n",
    "#         count_list.append(count)\n",
    "#         df['MERCHANT NO']=df[0:]['CARDNO.'][1:] #\"Toshit\"\n",
    "\n",
    "\n",
    "# df['MERCHANT NO']= df['CARDNO.'].copy()\n",
    "\n",
    "\n",
    "\n",
    "# count=-1\n",
    "# for x in df['MERCHANT NO']:\n",
    "#     count=count+1\n",
    "#     if len(x)>=16:\n",
    "#         df.loc[count,['MERCHANT NO']] = np.nan\n",
    "   \n",
    "        \n",
    "# df['MERCHANT NO'].fillna(method='ffill', inplace=True)\n",
    "\n",
    "# df.dropna(subset=['SITECODE', 'TRACE'], how='all', inplace=True)"
   ]
  },
  {
   "cell_type": "code",
   "execution_count": null,
   "metadata": {},
   "outputs": [],
   "source": []
  },
  {
   "cell_type": "code",
   "execution_count": null,
   "metadata": {},
   "outputs": [],
   "source": []
  },
  {
   "cell_type": "code",
   "execution_count": null,
   "metadata": {},
   "outputs": [],
   "source": []
  },
  {
   "cell_type": "code",
   "execution_count": null,
   "metadata": {},
   "outputs": [],
   "source": []
  },
  {
   "cell_type": "code",
   "execution_count": null,
   "metadata": {},
   "outputs": [],
   "source": []
  }
 ],
 "metadata": {
  "kernelspec": {
   "display_name": "Python 3.9.7 ('base')",
   "language": "python",
   "name": "python3"
  },
  "language_info": {
   "codemirror_mode": {
    "name": "ipython",
    "version": 3
   },
   "file_extension": ".py",
   "mimetype": "text/x-python",
   "name": "python",
   "nbconvert_exporter": "python",
   "pygments_lexer": "ipython3",
   "version": "3.9.7"
  },
  "orig_nbformat": 4,
  "vscode": {
   "interpreter": {
    "hash": "5f492f5c470f55523c19b2f79c7229cf8121df8975a795d121597a04109cf592"
   }
  }
 },
 "nbformat": 4,
 "nbformat_minor": 2
}
